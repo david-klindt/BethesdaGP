{
 "cells": [
  {
   "cell_type": "code",
   "execution_count": 1,
   "id": "62239847-046c-48c4-ad45-7fce95ca7c68",
   "metadata": {},
   "outputs": [],
   "source": [
    "from main import load_data, fit_model"
   ]
  },
  {
   "cell_type": "code",
   "execution_count": null,
   "id": "8d35973c-6bc9-4de3-93d8-4ca82f1248f4",
   "metadata": {},
   "outputs": [],
   "source": [
    "file = ''"
   ]
  }
 ],
 "metadata": {
  "kernelspec": {
   "display_name": "Python 3 (ipykernel)",
   "language": "python",
   "name": "python3"
  },
  "language_info": {
   "codemirror_mode": {
    "name": "ipython",
    "version": 3
   },
   "file_extension": ".py",
   "mimetype": "text/x-python",
   "name": "python",
   "nbconvert_exporter": "python",
   "pygments_lexer": "ipython3",
   "version": "3.9.16"
  }
 },
 "nbformat": 4,
 "nbformat_minor": 5
}
